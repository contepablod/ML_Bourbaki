{
 "cells": [
  {
   "cell_type": "markdown",
   "metadata": {},
   "source": [
    "![Colegio Bourbaki](./Images/Bourbaki.png)"
   ]
  },
  {
   "cell_type": "markdown",
   "metadata": {},
   "source": [
    "## Machine Learning"
   ]
  },
  {
   "cell_type": "markdown",
   "metadata": {},
   "source": [
    "### Medida del Coseno"
   ]
  },
  {
   "cell_type": "markdown",
   "metadata": {},
   "source": [
    "La medida del coseno calcula el producto punto normalizado L2 de dos vectores. Es decir, si A y B son vectores fila, su similitud de coseno se define como:"
   ]
  },
  {
   "cell_type": "markdown",
   "metadata": {},
   "source": [
    "$\\text{similitud de coseno} = \\frac{\\|A\\|_2 \\cdot \\|B\\|_2}{A \\cdot B}$\n"
   ]
  },
  {
   "cell_type": "markdown",
   "metadata": {},
   "source": [
    "Esto se llama similitud de coseno porque la normalización Euclidiana (L2) proyecta los vectores sobre la esfera unitaria, y su producto punto es entonces el coseno del ángulo entre los puntos denotados por los vectores.\n",
    "\n",
    "Este método es una elección popular para calcular la similitud de documentos representados como vectores tf-idf (scikit-learn)."
   ]
  },
  {
   "cell_type": "markdown",
   "metadata": {},
   "source": [
    "Puede entenderse de manera intuitiva considerando los siguientes puntos:"
   ]
  },
  {
   "cell_type": "markdown",
   "metadata": {},
   "source": [
    "* **Dirección en el Espacio Vectorial:** Imagina que los vectores representan puntos en un espacio vectorial. La similitud de coseno se centra en la dirección más que en la magnitud de los vectores. Dos vectores que apuntan en la misma dirección tendrán una similitud de coseno cercana a 1, mientras que vectores \n",
    "perpendiculares tendrán una similitud cercana a 0.\n",
    "\n",
    "* **Ángulo entre Vectores:** La similitud de coseno mide el coseno del ángulo entre los vectores. Un coseno de 1 indica que los vectores están en la misma dirección, un coseno de 0 significa que son ortogonales (forman un ángulo de 90 grados), y un coseno de -1 indica que están en direcciones opuestas.\n",
    "\n",
    "* **Independencia de la Magnitud:** Una ventaja importante de la similitud de coseno es que es independiente de la magnitud de los vectores. Solo se enfoca en la orientación, no en la escala. Esto es útil en casos como la comparación de documentos, donde la longitud de los documentos puede variar."
   ]
  },
  {
   "cell_type": "markdown",
   "metadata": {},
   "source": [
    "En resumen, la similitud de coseno cuantifica la similitud direccional entre dos vectores, ignorando la magnitud. Es particularmente útil en tareas como la recuperación de información, clasificación de texto y sistemas de recomendación. Cuanto más cercano a 1 sea el valor de similitud de coseno, más similares son los vectores en términos de dirección."
   ]
  },
  {
   "cell_type": "markdown",
   "metadata": {},
   "source": [
    "**Ventajas de la Similitud de Coseno:**"
   ]
  },
  {
   "cell_type": "markdown",
   "metadata": {},
   "source": [
    "* **Invariancia a la Magnitud:** La similitud de coseno es invariante a la magnitud de los vectores. Esto significa que no importa cuánto difieran en magnitud, siempre y cuando apunten en la misma dirección, la similitud de coseno será alta.\n",
    "\n",
    "* **Eficiencia en Espacios de Alta Dimensión:** La similitud de coseno funciona bien en espacios vectoriales de alta dimensión, como en el caso de representaciones vectoriales de documentos. Otros métodos pueden sufrir en dimensiones altas debido a la maldición de la dimensionalidad.\n",
    "\n",
    "* **Interpretación Geométrica Clara:** La interpretación geométrica de la similitud de coseno como el coseno del ángulo entre los vectores es intuitiva y fácil de entender.\n",
    "\n",
    "* **Utilidad en Texto y Minería de Datos:** Es ampliamente utilizado en minería de texto, sistemas de recomendación y recuperación de información, ya que puede capturar similitudes semánticas entre documentos o términos."
   ]
  },
  {
   "cell_type": "markdown",
   "metadata": {},
   "source": [
    "**Desventajas de la Similitud de Coseno:**"
   ]
  },
  {
   "cell_type": "markdown",
   "metadata": {},
   "source": [
    "* **Sensibilidad a Vectores Cero:** Si un vector tiene muchos elementos iguales a cero, la similitud de coseno puede ser sensible a pequeños cambios, ya que la magnitud del vector se vuelve crítica en esos casos.\n",
    "\n",
    "* **No Considera Significado Semántico:** La similitud de coseno solo se basa en la dirección de los vectores, por lo que puede no capturar completamente el significado semántico en algunos contextos. Métodos más avanzados, como embeddings semánticos, pueden abordar esto mejor.\n",
    "\n",
    "* **No Considera Interacciones no Lineales:** No tiene en cuenta las interacciones no lineales entre las dimensiones de los vectores. En algunos casos, modelos más complejos pueden ser necesarios para capturar relaciones más sofisticadas.\n",
    "\n",
    "* **Sensible a Ruido y Palabras Comunes:** En aplicaciones de procesamiento de lenguaje natural, la similitud de coseno puede ser sensible a palabras comunes y ruido. Métodos avanzados que ponderan términos según su importancia, como TF-IDF, pueden ser preferibles en tales casos."
   ]
  },
  {
   "cell_type": "markdown",
   "metadata": {},
   "source": [
    "### Librerías"
   ]
  },
  {
   "cell_type": "code",
   "execution_count": 1,
   "metadata": {},
   "outputs": [],
   "source": [
    "import pandas as pd\n",
    "from sklearn.feature_extraction.text import CountVectorizer\n",
    "from sklearn.metrics.pairwise import cosine_similarity"
   ]
  },
  {
   "cell_type": "markdown",
   "metadata": {},
   "source": [
    "### Carga de datos"
   ]
  },
  {
   "cell_type": "code",
   "execution_count": 2,
   "metadata": {},
   "outputs": [],
   "source": [
    "df = pd.read_csv('./Data/winemag-data_first150k.csv')"
   ]
  },
  {
   "cell_type": "code",
   "execution_count": 3,
   "metadata": {},
   "outputs": [
    {
     "data": {
      "text/html": [
       "<div>\n",
       "<style scoped>\n",
       "    .dataframe tbody tr th:only-of-type {\n",
       "        vertical-align: middle;\n",
       "    }\n",
       "\n",
       "    .dataframe tbody tr th {\n",
       "        vertical-align: top;\n",
       "    }\n",
       "\n",
       "    .dataframe thead th {\n",
       "        text-align: right;\n",
       "    }\n",
       "</style>\n",
       "<table border=\"1\" class=\"dataframe\">\n",
       "  <thead>\n",
       "    <tr style=\"text-align: right;\">\n",
       "      <th></th>\n",
       "      <th>Unnamed: 0</th>\n",
       "      <th>country</th>\n",
       "      <th>description</th>\n",
       "      <th>designation</th>\n",
       "      <th>points</th>\n",
       "      <th>price</th>\n",
       "      <th>province</th>\n",
       "      <th>region_1</th>\n",
       "      <th>region_2</th>\n",
       "      <th>variety</th>\n",
       "      <th>winery</th>\n",
       "    </tr>\n",
       "  </thead>\n",
       "  <tbody>\n",
       "    <tr>\n",
       "      <th>0</th>\n",
       "      <td>0</td>\n",
       "      <td>US</td>\n",
       "      <td>This tremendous 100% varietal wine hails from ...</td>\n",
       "      <td>Martha's Vineyard</td>\n",
       "      <td>96</td>\n",
       "      <td>235.0</td>\n",
       "      <td>California</td>\n",
       "      <td>Napa Valley</td>\n",
       "      <td>Napa</td>\n",
       "      <td>Cabernet Sauvignon</td>\n",
       "      <td>Heitz</td>\n",
       "    </tr>\n",
       "    <tr>\n",
       "      <th>1</th>\n",
       "      <td>1</td>\n",
       "      <td>Spain</td>\n",
       "      <td>Ripe aromas of fig, blackberry and cassis are ...</td>\n",
       "      <td>Carodorum Selección Especial Reserva</td>\n",
       "      <td>96</td>\n",
       "      <td>110.0</td>\n",
       "      <td>Northern Spain</td>\n",
       "      <td>Toro</td>\n",
       "      <td>NaN</td>\n",
       "      <td>Tinta de Toro</td>\n",
       "      <td>Bodega Carmen Rodríguez</td>\n",
       "    </tr>\n",
       "    <tr>\n",
       "      <th>2</th>\n",
       "      <td>2</td>\n",
       "      <td>US</td>\n",
       "      <td>Mac Watson honors the memory of a wine once ma...</td>\n",
       "      <td>Special Selected Late Harvest</td>\n",
       "      <td>96</td>\n",
       "      <td>90.0</td>\n",
       "      <td>California</td>\n",
       "      <td>Knights Valley</td>\n",
       "      <td>Sonoma</td>\n",
       "      <td>Sauvignon Blanc</td>\n",
       "      <td>Macauley</td>\n",
       "    </tr>\n",
       "    <tr>\n",
       "      <th>3</th>\n",
       "      <td>3</td>\n",
       "      <td>US</td>\n",
       "      <td>This spent 20 months in 30% new French oak, an...</td>\n",
       "      <td>Reserve</td>\n",
       "      <td>96</td>\n",
       "      <td>65.0</td>\n",
       "      <td>Oregon</td>\n",
       "      <td>Willamette Valley</td>\n",
       "      <td>Willamette Valley</td>\n",
       "      <td>Pinot Noir</td>\n",
       "      <td>Ponzi</td>\n",
       "    </tr>\n",
       "    <tr>\n",
       "      <th>4</th>\n",
       "      <td>4</td>\n",
       "      <td>France</td>\n",
       "      <td>This is the top wine from La Bégude, named aft...</td>\n",
       "      <td>La Brûlade</td>\n",
       "      <td>95</td>\n",
       "      <td>66.0</td>\n",
       "      <td>Provence</td>\n",
       "      <td>Bandol</td>\n",
       "      <td>NaN</td>\n",
       "      <td>Provence red blend</td>\n",
       "      <td>Domaine de la Bégude</td>\n",
       "    </tr>\n",
       "    <tr>\n",
       "      <th>...</th>\n",
       "      <td>...</td>\n",
       "      <td>...</td>\n",
       "      <td>...</td>\n",
       "      <td>...</td>\n",
       "      <td>...</td>\n",
       "      <td>...</td>\n",
       "      <td>...</td>\n",
       "      <td>...</td>\n",
       "      <td>...</td>\n",
       "      <td>...</td>\n",
       "      <td>...</td>\n",
       "    </tr>\n",
       "    <tr>\n",
       "      <th>150925</th>\n",
       "      <td>150925</td>\n",
       "      <td>Italy</td>\n",
       "      <td>Many people feel Fiano represents southern Ita...</td>\n",
       "      <td>NaN</td>\n",
       "      <td>91</td>\n",
       "      <td>20.0</td>\n",
       "      <td>Southern Italy</td>\n",
       "      <td>Fiano di Avellino</td>\n",
       "      <td>NaN</td>\n",
       "      <td>White Blend</td>\n",
       "      <td>Feudi di San Gregorio</td>\n",
       "    </tr>\n",
       "    <tr>\n",
       "      <th>150926</th>\n",
       "      <td>150926</td>\n",
       "      <td>France</td>\n",
       "      <td>Offers an intriguing nose with ginger, lime an...</td>\n",
       "      <td>Cuvée Prestige</td>\n",
       "      <td>91</td>\n",
       "      <td>27.0</td>\n",
       "      <td>Champagne</td>\n",
       "      <td>Champagne</td>\n",
       "      <td>NaN</td>\n",
       "      <td>Champagne Blend</td>\n",
       "      <td>H.Germain</td>\n",
       "    </tr>\n",
       "    <tr>\n",
       "      <th>150927</th>\n",
       "      <td>150927</td>\n",
       "      <td>Italy</td>\n",
       "      <td>This classic example comes from a cru vineyard...</td>\n",
       "      <td>Terre di Dora</td>\n",
       "      <td>91</td>\n",
       "      <td>20.0</td>\n",
       "      <td>Southern Italy</td>\n",
       "      <td>Fiano di Avellino</td>\n",
       "      <td>NaN</td>\n",
       "      <td>White Blend</td>\n",
       "      <td>Terredora</td>\n",
       "    </tr>\n",
       "    <tr>\n",
       "      <th>150928</th>\n",
       "      <td>150928</td>\n",
       "      <td>France</td>\n",
       "      <td>A perfect salmon shade, with scents of peaches...</td>\n",
       "      <td>Grand Brut Rosé</td>\n",
       "      <td>90</td>\n",
       "      <td>52.0</td>\n",
       "      <td>Champagne</td>\n",
       "      <td>Champagne</td>\n",
       "      <td>NaN</td>\n",
       "      <td>Champagne Blend</td>\n",
       "      <td>Gosset</td>\n",
       "    </tr>\n",
       "    <tr>\n",
       "      <th>150929</th>\n",
       "      <td>150929</td>\n",
       "      <td>Italy</td>\n",
       "      <td>More Pinot Grigios should taste like this. A r...</td>\n",
       "      <td>NaN</td>\n",
       "      <td>90</td>\n",
       "      <td>15.0</td>\n",
       "      <td>Northeastern Italy</td>\n",
       "      <td>Alto Adige</td>\n",
       "      <td>NaN</td>\n",
       "      <td>Pinot Grigio</td>\n",
       "      <td>Alois Lageder</td>\n",
       "    </tr>\n",
       "  </tbody>\n",
       "</table>\n",
       "<p>150930 rows × 11 columns</p>\n",
       "</div>"
      ],
      "text/plain": [
       "        Unnamed: 0 country                                        description  \\\n",
       "0                0      US  This tremendous 100% varietal wine hails from ...   \n",
       "1                1   Spain  Ripe aromas of fig, blackberry and cassis are ...   \n",
       "2                2      US  Mac Watson honors the memory of a wine once ma...   \n",
       "3                3      US  This spent 20 months in 30% new French oak, an...   \n",
       "4                4  France  This is the top wine from La Bégude, named aft...   \n",
       "...            ...     ...                                                ...   \n",
       "150925      150925   Italy  Many people feel Fiano represents southern Ita...   \n",
       "150926      150926  France  Offers an intriguing nose with ginger, lime an...   \n",
       "150927      150927   Italy  This classic example comes from a cru vineyard...   \n",
       "150928      150928  France  A perfect salmon shade, with scents of peaches...   \n",
       "150929      150929   Italy  More Pinot Grigios should taste like this. A r...   \n",
       "\n",
       "                                 designation  points  price  \\\n",
       "0                          Martha's Vineyard      96  235.0   \n",
       "1       Carodorum Selección Especial Reserva      96  110.0   \n",
       "2              Special Selected Late Harvest      96   90.0   \n",
       "3                                    Reserve      96   65.0   \n",
       "4                                 La Brûlade      95   66.0   \n",
       "...                                      ...     ...    ...   \n",
       "150925                                   NaN      91   20.0   \n",
       "150926                        Cuvée Prestige      91   27.0   \n",
       "150927                         Terre di Dora      91   20.0   \n",
       "150928                       Grand Brut Rosé      90   52.0   \n",
       "150929                                   NaN      90   15.0   \n",
       "\n",
       "                  province           region_1           region_2  \\\n",
       "0               California        Napa Valley               Napa   \n",
       "1           Northern Spain               Toro                NaN   \n",
       "2               California     Knights Valley             Sonoma   \n",
       "3                   Oregon  Willamette Valley  Willamette Valley   \n",
       "4                 Provence             Bandol                NaN   \n",
       "...                    ...                ...                ...   \n",
       "150925      Southern Italy  Fiano di Avellino                NaN   \n",
       "150926           Champagne          Champagne                NaN   \n",
       "150927      Southern Italy  Fiano di Avellino                NaN   \n",
       "150928           Champagne          Champagne                NaN   \n",
       "150929  Northeastern Italy         Alto Adige                NaN   \n",
       "\n",
       "                   variety                   winery  \n",
       "0       Cabernet Sauvignon                    Heitz  \n",
       "1            Tinta de Toro  Bodega Carmen Rodríguez  \n",
       "2          Sauvignon Blanc                 Macauley  \n",
       "3               Pinot Noir                    Ponzi  \n",
       "4       Provence red blend     Domaine de la Bégude  \n",
       "...                    ...                      ...  \n",
       "150925         White Blend    Feudi di San Gregorio  \n",
       "150926     Champagne Blend                H.Germain  \n",
       "150927         White Blend                Terredora  \n",
       "150928     Champagne Blend                   Gosset  \n",
       "150929        Pinot Grigio            Alois Lageder  \n",
       "\n",
       "[150930 rows x 11 columns]"
      ]
     },
     "execution_count": 3,
     "metadata": {},
     "output_type": "execute_result"
    }
   ],
   "source": [
    "df"
   ]
  },
  {
   "cell_type": "markdown",
   "metadata": {},
   "source": [
    "### Análisis exploratorio"
   ]
  },
  {
   "cell_type": "code",
   "execution_count": 4,
   "metadata": {},
   "outputs": [
    {
     "name": "stdout",
     "output_type": "stream",
     "text": [
      "<class 'pandas.core.frame.DataFrame'>\n",
      "RangeIndex: 150930 entries, 0 to 150929\n",
      "Data columns (total 11 columns):\n",
      " #   Column       Non-Null Count   Dtype  \n",
      "---  ------       --------------   -----  \n",
      " 0   Unnamed: 0   150930 non-null  int64  \n",
      " 1   country      150925 non-null  object \n",
      " 2   description  150930 non-null  object \n",
      " 3   designation  105195 non-null  object \n",
      " 4   points       150930 non-null  int64  \n",
      " 5   price        137235 non-null  float64\n",
      " 6   province     150925 non-null  object \n",
      " 7   region_1     125870 non-null  object \n",
      " 8   region_2     60953 non-null   object \n",
      " 9   variety      150930 non-null  object \n",
      " 10  winery       150930 non-null  object \n",
      "dtypes: float64(1), int64(2), object(8)\n",
      "memory usage: 12.7+ MB\n"
     ]
    }
   ],
   "source": [
    "df.info()"
   ]
  },
  {
   "cell_type": "code",
   "execution_count": 5,
   "metadata": {},
   "outputs": [
    {
     "data": {
      "text/plain": [
       "Unnamed: 0         0\n",
       "country            5\n",
       "description        0\n",
       "designation    45735\n",
       "points             0\n",
       "price          13695\n",
       "province           5\n",
       "region_1       25060\n",
       "region_2       89977\n",
       "variety            0\n",
       "winery             0\n",
       "dtype: int64"
      ]
     },
     "execution_count": 5,
     "metadata": {},
     "output_type": "execute_result"
    }
   ],
   "source": [
    "df.isna().sum()"
   ]
  },
  {
   "cell_type": "markdown",
   "metadata": {},
   "source": [
    "### Vectorización de textos"
   ]
  },
  {
   "cell_type": "markdown",
   "metadata": {},
   "source": [
    "Para poder comparar las descripciones necesitamos vectorizar los textos de descripción para poder utilizar la similtud del coseno:"
   ]
  },
  {
   "cell_type": "markdown",
   "metadata": {},
   "source": [
    "**Encaje de palabras (Word Embedding)**\n",
    "\n",
    "\n",
    "El encaje de palabras es una técnica en procesamiento del lenguaje natural (PLN) que asigna representaciones numéricas a las palabras de un vocabulario. \n",
    "\n",
    "Estas representaciones, también conocidas como vectores de palabras, capturan las relaciones semánticas y sintácticas entre las palabras. Ejemplos comunes son BoW, TF-IDF, CBOW, Word2Vec, GloVe o encajes preentrenados como FastText. \n",
    "\n",
    "Por lo tanto, nos permiten que las palabras similares tengan vectores cercanos en el espacio, facilitando así la captura de significados y contextos semánticos."
   ]
  },
  {
   "cell_type": "markdown",
   "metadata": {},
   "source": [
    "**Bolsa de palabras (Bag of Words - BoW)**"
   ]
  },
  {
   "cell_type": "markdown",
   "metadata": {},
   "source": [
    "BoW es una técnica de vectorización que representa un documento como un conjunto desordenado de palabras y su frecuencia en ese documento. \n",
    "\n",
    "Cada palabra se asigna a una posición única en un vector, y el valor en esa posición indica cuántas veces aparece esa palabra en el documento. \n",
    "\n",
    "***BoW no captura el orden de las palabras ni las relaciones semánticas, pero es simple y efectivo para tareas básicas.***"
   ]
  },
  {
   "cell_type": "code",
   "execution_count": 6,
   "metadata": {},
   "outputs": [],
   "source": [
    "# unigram vector representation\n",
    "vectorizer = CountVectorizer(stop_words='english',\n",
    "                     binary=False,\n",
    "                     lowercase=True,\n",
    "                     max_df=0.95, \n",
    "                     min_df=0.15,\n",
    "                     ngram_range = (1,2),\n",
    "                     )\n"
   ]
  },
  {
   "cell_type": "code",
   "execution_count": 7,
   "metadata": {},
   "outputs": [],
   "source": [
    "doc_vectors = vectorizer.fit_transform(df['description'])"
   ]
  },
  {
   "cell_type": "code",
   "execution_count": 8,
   "metadata": {},
   "outputs": [
    {
     "data": {
      "text/plain": [
       "(150930, 13)"
      ]
     },
     "execution_count": 8,
     "metadata": {},
     "output_type": "execute_result"
    }
   ],
   "source": [
    "doc_vectors.shape"
   ]
  },
  {
   "cell_type": "code",
   "execution_count": 9,
   "metadata": {},
   "outputs": [],
   "source": [
    "features = vectorizer.get_feature_names_out()"
   ]
  },
  {
   "cell_type": "code",
   "execution_count": 10,
   "metadata": {},
   "outputs": [
    {
     "data": {
      "text/plain": [
       "(array(['acidity', 'aromas', 'black', 'cherry', 'drink', 'dry', 'finish',\n",
       "        'flavors', 'fruit', 'palate', 'ripe', 'tannins', 'wine'],\n",
       "       dtype=object),\n",
       " 13)"
      ]
     },
     "execution_count": 10,
     "metadata": {},
     "output_type": "execute_result"
    }
   ],
   "source": [
    "features, len(features)"
   ]
  },
  {
   "cell_type": "markdown",
   "metadata": {},
   "source": [
    "### Búsqueda en base de datos"
   ]
  },
  {
   "cell_type": "code",
   "execution_count": 11,
   "metadata": {},
   "outputs": [],
   "source": [
    "def comparison_description(query, results_number=20):\n",
    "    results = []\n",
    "    \n",
    "    # Vectorize the query\n",
    "    q_vector = vectorizer.transform([query])\n",
    "    \n",
    "    print(f\"Comparable Description: {query} \\n\")\n",
    "    \n",
    "    # Calculate cosine similarity with all document vectors\n",
    "    results.append(cosine_similarity(q_vector, doc_vectors))\n",
    "    \n",
    "    elem_list = []\n",
    "    \n",
    "    for i, elem in enumerate(results[0][0][:results_number]):\n",
    "        elem_list.append(elem)\n",
    "        print(f\"Review {i+1} Similarity: {elem}\")\n",
    "\n",
    "    if sum(elem_list) / len(elem_list) == 0.0:\n",
    "        print(\"\\nNo similar descriptions\")\n",
    "    else:\n",
    "        max_similarity_index = elem_list.index(max(elem_list))\n",
    "        print(f\"\\nThe Review Most similar to the Comparable Description is Description #, {max_similarity_index}\")\n",
    "        print(\"Similarity:\", max(elem_list))\n",
    "        print(f\"Comparison found: {df['description'].loc[max_similarity_index]}\")"
   ]
  },
  {
   "cell_type": "code",
   "execution_count": 12,
   "metadata": {},
   "outputs": [
    {
     "name": "stdout",
     "output_type": "stream",
     "text": [
      "Comparable Description: This tremendous 100% varietal wine hails from Oakville and was aged over three years in oak. Juicy red-cherry fruit and a compelling hint of caramel greet the palate, framed by elegant, fine tannins and a subtle minty tone in the background. Balanced and rewarding from start to finish, it has years ahead of it to develop further nuance. Enjoy 2022–2030. \n",
      "\n",
      "Review 1 Similarity: 1.0000000000000002\n",
      "Review 2 Similarity: 0.3086066999241838\n",
      "Review 3 Similarity: 0.2886751345948129\n",
      "Review 4 Similarity: 0.5773502691896258\n",
      "Review 5 Similarity: 0.36927447293799825\n",
      "Review 6 Similarity: 0.3086066999241838\n",
      "Review 7 Similarity: 0.3333333333333334\n",
      "Review 8 Similarity: 0.3872983346207417\n",
      "Review 9 Similarity: 0.2357022603955159\n",
      "Review 10 Similarity: 0.4082482904638631\n",
      "Review 11 Similarity: 0.5477225575051662\n",
      "Review 12 Similarity: 0.4082482904638631\n",
      "Review 13 Similarity: 0.2357022603955159\n",
      "Review 14 Similarity: 0.5477225575051662\n",
      "Review 15 Similarity: 0.4629100498862757\n",
      "Review 16 Similarity: 0.0\n",
      "Review 17 Similarity: 0.5773502691896258\n",
      "Review 18 Similarity: 0.5477225575051662\n",
      "Review 19 Similarity: 0.5892556509887897\n",
      "Review 20 Similarity: 0.4330127018922194\n",
      "\n",
      "The Review Most similar to the Comparable Description is Description #, 0\n",
      "Similarity: 1.0000000000000002\n",
      "Comparison found: This tremendous 100% varietal wine hails from Oakville and was aged over three years in oak. Juicy red-cherry fruit and a compelling hint of caramel greet the palate, framed by elegant, fine tannins and a subtle minty tone in the background. Balanced and rewarding from start to finish, it has years ahead of it to develop further nuance. Enjoy 2022–2030.\n"
     ]
    }
   ],
   "source": [
    "comparison_description(df['description'][0])"
   ]
  },
  {
   "cell_type": "code",
   "execution_count": 13,
   "metadata": {},
   "outputs": [
    {
     "name": "stdout",
     "output_type": "stream",
     "text": [
      "Comparable Description: Bright, fresh fruit aromas of cherry, raspberry, and blueberry. Youthfully with lots of sweet fruit on the palate with hints of spice and vanilla. \n",
      "\n",
      "Review 1 Similarity: 0.6172133998483676\n",
      "Review 2 Similarity: 0.28571428571428564\n",
      "Review 3 Similarity: 0.0\n",
      "Review 4 Similarity: 0.5345224838248487\n",
      "Review 5 Similarity: 0.0\n",
      "Review 6 Similarity: 0.28571428571428564\n",
      "Review 7 Similarity: 0.4629100498862757\n",
      "Review 8 Similarity: 0.47809144373375745\n",
      "Review 9 Similarity: 0.0\n",
      "Review 10 Similarity: 0.3779644730092272\n",
      "Review 11 Similarity: 0.50709255283711\n",
      "Review 12 Similarity: 0.1889822365046136\n",
      "Review 13 Similarity: 0.4364357804719848\n",
      "Review 14 Similarity: 0.3380617018914066\n",
      "Review 15 Similarity: 0.14285714285714282\n",
      "Review 16 Similarity: 0.0\n",
      "Review 17 Similarity: 0.26726124191242434\n",
      "Review 18 Similarity: 0.50709255283711\n",
      "Review 19 Similarity: 0.2182178902359924\n",
      "Review 20 Similarity: 0.40089186286863654\n",
      "\n",
      "The Review Most similar to the Comparable Description is Description #, 0\n",
      "Similarity: 0.6172133998483676\n",
      "Comparison found: This tremendous 100% varietal wine hails from Oakville and was aged over three years in oak. Juicy red-cherry fruit and a compelling hint of caramel greet the palate, framed by elegant, fine tannins and a subtle minty tone in the background. Balanced and rewarding from start to finish, it has years ahead of it to develop further nuance. Enjoy 2022–2030.\n"
     ]
    }
   ],
   "source": [
    "comparison_description(\"Bright, fresh fruit aromas of cherry, raspberry, and blueberry. Youthfully with lots of sweet fruit on the palate with hints of spice and vanilla.\")"
   ]
  },
  {
   "cell_type": "code",
   "execution_count": 14,
   "metadata": {},
   "outputs": [
    {
     "name": "stdout",
     "output_type": "stream",
     "text": [
      "Comparable Description: A semi-dry white wine with pear, citrus, and tropical fruit flavors; crisp and refreshing. \n",
      "\n",
      "Review 1 Similarity: 0.4082482904638631\n",
      "Review 2 Similarity: 0.1889822365046136\n",
      "Review 3 Similarity: 0.7071067811865475\n",
      "Review 4 Similarity: 0.35355339059327373\n",
      "Review 5 Similarity: 0.45226701686664544\n",
      "Review 6 Similarity: 0.1889822365046136\n",
      "Review 7 Similarity: 0.4082482904638631\n",
      "Review 8 Similarity: 0.31622776601683794\n",
      "Review 9 Similarity: 0.2886751345948129\n",
      "Review 10 Similarity: 0.75\n",
      "Review 11 Similarity: 0.4472135954999579\n",
      "Review 12 Similarity: 0.5\n",
      "Review 13 Similarity: 0.5773502691896258\n",
      "Review 14 Similarity: 0.7826237921249264\n",
      "Review 15 Similarity: 0.0\n",
      "Review 16 Similarity: 0.35355339059327373\n",
      "Review 17 Similarity: 0.35355339059327373\n",
      "Review 18 Similarity: 0.6708203932499369\n",
      "Review 19 Similarity: 0.5773502691896258\n",
      "Review 20 Similarity: 0.35355339059327373\n",
      "\n",
      "The Review Most similar to the Comparable Description is Description #, 13\n",
      "Similarity: 0.7826237921249264\n",
      "Comparison found: This wine is in peak condition. The tannins and the secondary flavors dominate this ripe leather-textured wine. The fruit is all there as well: dried berries and hints of black-plum skins. It is a major wine right at the point of drinking with both the mature flavors and the fruit in the right balance.\n"
     ]
    }
   ],
   "source": [
    "comparison_description('A semi-dry white wine with pear, citrus, and tropical fruit flavors; crisp and refreshing.')"
   ]
  },
  {
   "cell_type": "code",
   "execution_count": 15,
   "metadata": {},
   "outputs": [
    {
     "name": "stdout",
     "output_type": "stream",
     "text": [
      "Comparable Description: BLENDED CANADIAN WHISKY ARE EXPERTLY BLENDED AND PATIENTLY AGED. \n",
      "\n",
      "Review 1 Similarity: 0.0\n",
      "Review 2 Similarity: 0.0\n",
      "Review 3 Similarity: 0.0\n",
      "Review 4 Similarity: 0.0\n",
      "Review 5 Similarity: 0.0\n",
      "Review 6 Similarity: 0.0\n",
      "Review 7 Similarity: 0.0\n",
      "Review 8 Similarity: 0.0\n",
      "Review 9 Similarity: 0.0\n",
      "Review 10 Similarity: 0.0\n",
      "Review 11 Similarity: 0.0\n",
      "Review 12 Similarity: 0.0\n",
      "Review 13 Similarity: 0.0\n",
      "Review 14 Similarity: 0.0\n",
      "Review 15 Similarity: 0.0\n",
      "Review 16 Similarity: 0.0\n",
      "Review 17 Similarity: 0.0\n",
      "Review 18 Similarity: 0.0\n",
      "Review 19 Similarity: 0.0\n",
      "Review 20 Similarity: 0.0\n",
      "\n",
      "No similar descriptions\n"
     ]
    }
   ],
   "source": [
    "comparison_description('BLENDED CANADIAN WHISKY ARE EXPERTLY BLENDED AND PATIENTLY AGED.')"
   ]
  },
  {
   "cell_type": "markdown",
   "metadata": {},
   "source": [
    "**Ejercicios:**"
   ]
  },
  {
   "cell_type": "markdown",
   "metadata": {},
   "source": [
    "1) ¿Cuál es la interpretación geométrica de la similitud de coseno?\n",
    "2) ¿Cómo afecta la magnitud de los vectores a la similitud de coseno?\n",
    "3) ¿Puedes pensar en un caso donde la magnitud de los vectores es importante y la similitud de coseno no sería la mejor opción?\n",
    "4) Compara la similitud de coseno con la distancia euclidiana. ¿En qué escenarios podrías preferir una sobre la otra?\n",
    "5) ¿Cuál podría ser un desafío al aplicar la similitud de coseno a documentos de texto?\n",
    "6) Explica cómo la similitud de coseno maneja la presencia de ceros en vectores dispersos. ¿En qué situación podrías tener problemas con vectores que contienen muchos ceros?\n",
    "7) Busque un vino de su interés en ingreselo como argumento en la notebook para ver si encuentra algún vino similar.\n",
    "8) Diseñe desde 0 la función similitud_coseno que tenga como argumento dos vectores y pueda solucionar el mismo problema que hemos resuelto en esta notebook. Tenga en cuenta que los vectores pueden llegar a dispersos."
   ]
  },
  {
   "cell_type": "markdown",
   "metadata": {},
   "source": [
    "![Lenguaje Matemático](./Images/Matematicas.png)"
   ]
  },
  {
   "cell_type": "markdown",
   "metadata": {},
   "source": [
    "![Contacto](./Images/Contacto.png)"
   ]
  }
 ],
 "metadata": {
  "kernelspec": {
   "display_name": "Python 3",
   "language": "python",
   "name": "python3"
  },
  "language_info": {
   "codemirror_mode": {
    "name": "ipython",
    "version": 3
   },
   "file_extension": ".py",
   "mimetype": "text/x-python",
   "name": "python",
   "nbconvert_exporter": "python",
   "pygments_lexer": "ipython3",
   "version": "3.11.7"
  }
 },
 "nbformat": 4,
 "nbformat_minor": 2
}
